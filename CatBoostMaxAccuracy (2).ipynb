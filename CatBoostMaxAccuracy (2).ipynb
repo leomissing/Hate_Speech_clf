{
 "cells": [
  {
   "cell_type": "code",
   "execution_count": 1,
   "id": "83359e59",
   "metadata": {
    "scrolled": true
   },
   "outputs": [
    {
     "name": "stderr",
     "output_type": "stream",
     "text": [
      "[nltk_data] Downloading package punkt to\n",
      "[nltk_data]     C:\\Users\\dzyat\\AppData\\Roaming\\nltk_data...\n",
      "[nltk_data]   Package punkt is already up-to-date!\n",
      "[nltk_data] Downloading package stopwords to\n",
      "[nltk_data]     C:\\Users\\dzyat\\AppData\\Roaming\\nltk_data...\n",
      "[nltk_data]   Package stopwords is already up-to-date!\n",
      "[nltk_data] Downloading package wordnet to\n",
      "[nltk_data]     C:\\Users\\dzyat\\AppData\\Roaming\\nltk_data...\n",
      "[nltk_data]   Package wordnet is already up-to-date!\n"
     ]
    }
   ],
   "source": [
    "import os\n",
    "from tqdm import tqdm\n",
    "\n",
    "from nltk.tokenize import word_tokenize\n",
    "from nltk.corpus import stopwords\n",
    "from nltk.stem import WordNetLemmatizer\n",
    "from nltk.corpus import wordnet\n",
    "from nltk.tokenize import sent_tokenize\n",
    "from statistics import mean\n",
    "from sentence_transformers import SentenceTransformer\n",
    "import string\n",
    "import nltk\n",
    "nltk.download('punkt')\n",
    "nltk.download('stopwords')\n",
    "nltk.download('wordnet')\n",
    "\n",
    "\n",
    "\n",
    "import pandas as pd\n",
    "from catboost import Pool, CatBoostClassifier, metrics, cv\n",
    "from sklearn.metrics import accuracy_score\n",
    "import numpy as np"
   ]
  },
  {
   "cell_type": "code",
   "execution_count": 22,
   "id": "f47ec93b",
   "metadata": {},
   "outputs": [
    {
     "ename": "ModuleNotFoundError",
     "evalue": "No module named 'evaluate'",
     "output_type": "error",
     "traceback": [
      "\u001b[1;31m---------------------------------------------------------------------------\u001b[0m",
      "\u001b[1;31mModuleNotFoundError\u001b[0m                       Traceback (most recent call last)",
      "Cell \u001b[1;32mIn[22], line 8\u001b[0m\n\u001b[0;32m      5\u001b[0m \u001b[38;5;28;01mfrom\u001b[39;00m \u001b[38;5;21;01msklearn\u001b[39;00m\u001b[38;5;21;01m.\u001b[39;00m\u001b[38;5;21;01mmodel_selection\u001b[39;00m \u001b[38;5;28;01mimport\u001b[39;00m train_test_split\n\u001b[0;32m      6\u001b[0m \u001b[38;5;28;01mfrom\u001b[39;00m \u001b[38;5;21;01mtransformers\u001b[39;00m \u001b[38;5;28;01mimport\u001b[39;00m (AutoTokenizer, \n\u001b[0;32m      7\u001b[0m                           AutoModelForSequenceClassification, get_scheduler)\n\u001b[1;32m----> 8\u001b[0m \u001b[38;5;28;01mimport\u001b[39;00m \u001b[38;5;21;01mevaluate\u001b[39;00m\n",
      "\u001b[1;31mModuleNotFoundError\u001b[0m: No module named 'evaluate'"
     ]
    }
   ],
   "source": [
    "from sklearn.model_selection import StratifiedKFold\n",
    "# from datasets import Dataset\n",
    "from torch.optim import AdamW, SGD\n",
    "from torch.utils.data import DataLoader\n",
    "from sklearn.model_selection import train_test_split\n",
    "from transformers import (AutoTokenizer, \n",
    "                          AutoModelForSequenceClassification, get_scheduler)\n",
    "import evaluate"
   ]
  },
  {
   "cell_type": "code",
   "execution_count": 2,
   "id": "6a63da5a",
   "metadata": {
    "collapsed": true
   },
   "outputs": [
    {
     "name": "stdout",
     "output_type": "stream",
     "text": [
      "Number of rows and columns in the train data set: (6944, 4)\n",
      "Number of rows and columns in the test data set: (2684, 3)\n"
     ]
    },
    {
     "data": {
      "text/plain": [
       "movie_name                                         target  movie_description                                                                                                                                                                                                                                                                                                                                                                                                                                                                                                                                                                                                                                                                                                                               id                                     \n",
       "#Alive                                             4       A rapidly spreading infection leaves one survivor in the entire city.                                                                                                                                                                                                                                                                                                                                                                                                                                                                                                                                                                                                                                                                           133569428686953411635450509950050205030    1\n",
       "Somebody I Used To Know                            5       Workaholic TV producer Ally (Alison Brie) faces a major professional setback which sends her running to the comforts of her hometown. She spends a whirlwind evening reminiscing with her first love Sean (Jay Ellis) and starts to question everything about the person she's become. Things only get more confusing when she discovers Sean is getting married to Cassidy (Kiersey Clemons) whose confidence and creative convictions remind Ally of who she used to be.                                                                                                                                                                                                                                                                      133581720144085874604784772358505332070    1\n",
       "Something's Gotta Give                             5       When aging womanizer Harry Sanborn (Jack Nicholson) and his young girlfriend, Marin (Amanda Peet), arrive at her family's beach house in the Hamptons, they find that her mother, dramatist Erica Barry (Diane Keaton), also plans to stay for the weekend. Erica is scandalized by the relationship and Harry's sexist ways. But when Harry has a heart attack, and a doctor (Keanu Reeves) prescribes bed rest at the Barry home, he finds himself falling for Erica -- who, for once, may be out of his league.                                                                                                                                                                                                                              133583670741446975792776325410562604390    1\n",
       "Something from Tiffany's                           5       Nothing compares to the magic and excitement of the holidays in New York City, where the streets blaze with lights, windows dazzle and a special box from Tiffany could change the course of a person's life. Or several lives. Rachel and Gary (Zoey Deutch, Ray Nicholson) are happy enough but not quite ready for that big commitment. Ethan and Vanessa (Kendrick Smith Sampson, Shay Mitchell), the perfect picture, are just about to make it official. When a simple mix-up of gifts causes all of their paths to cross, it sets off a series of twists and unexpected discoveries that lead them where they're truly meant to be. Because love -- like life -- is full of surprises, in the holiday romance Something from Tiffany's.  133582861821907705153889495326829673830    1\n",
       "Something Wild                                     3       Free-spirited Lulu (Melanie Griffith) sets her sights on uptight banker Charles (Jeff Daniels) for a little bit of fun. Their relationship starts off simple enough with a tryst and some modest adventure, but Lulu wants Charles to pose as her husband at a high school reunion. It seems harmless enough to Charles, but that all changes when Lulu's actual husband, Ray (Ray Liotta), confronts them at the event. Understandably, Ray isn't content to let Charles and Lulu ride off into the sunset.                                                                                                                                                                                                                                    133562701423674325450545442133227175270    1\n",
       "                                                                                                                                                                                                                                                                                                                                                                                                                                                                                                                                                                                                                                                                                                                                                                                                                                                     ..\n",
       "Hidalgo                                            1       Rugged cowboy Frank Hopkins (Viggo Mortensen) is an expert horseman who performs in Buffalo Bill's Wild West Show. When affluent Sheik Riyadh (Omar Sharif), piqued by tales of Hopkins' talent, challenges Hopkins to prove himself in a treacherous long-distance horse race called the Ocean of Fire, Hopkins is forced to oblige. In the Middle East with his American mustang, he must race against thoroughbred horses ridden by the best riders in the world with his reputation -- and his life -- at stake.                                                                                                                                                                                                                            133543274678225827834967505156604788070    1\n",
       "Hey! Is Dee Dee Home?                              2       The life and times of Ramones bassist Dee Dee Ramone.                                                                                                                                                                                                                                                                                                                                                                                                                                                                                                                                                                                                                                                                                           133554040200948266073159715908576443750    1\n",
       "Hey Arnold! The Jungle Movie                       1       Arnold and his friends find nonstop adventure when they travel to San Lorenzo, Argentina, to find his missing parents.                                                                                                                                                                                                                                                                                                                                                                                                                                                                                                                                                                                                                          133545241121219431875826576917452127590    1\n",
       "Hex Hollow: Witchcraft and Murder in Pennsylvania  2       The town of York is thrust into the national spotlight when Nelson Rehmeyer is murdered.                                                                                                                                                                                                                                                                                                                                                                                                                                                                                                                                                                                                                                                        133554034654976890074656084360499920230    1\n",
       "¡Viva Maestro!                                     2       When conductor Gustavo Dudamel's international tours are disrupted by deadly protests across his native Venezuela, one of the world's finest and most beloved musicians faces a daunting set of challenges -- to his commitment to the mentor who changed his life, to friends and musicians he's led since his teens, and to his belief in art's transformative capacity. Viva Maestro!, the uplifting and timely new documentary from acclaimed director Ted Braun, follows Dudamel around the world as he responds to unexpected and imposing obstacles with stirring music-making that celebrates the power of art to renew and unite.                                                                                                      133549214413569522232356893146561477990    1\n",
       "Length: 6944, dtype: int64"
      ]
     },
     "execution_count": 2,
     "metadata": {},
     "output_type": "execute_result"
    }
   ],
   "source": [
    "    path = \"../\"\n",
    "    train_data = pd.read_csv(os.path.join(path, \"train.csv\"))\n",
    "    train_data = train_data.drop_duplicates(subset=[\"movie_name\"], keep=\"last\").reset_index(drop=True)\n",
    "    test_data = pd.read_csv(os.path.join(path, \"test.csv\"))\n",
    "    print(f\"Number of rows and columns in the train data set: {train_data.shape}\")\n",
    "    print(f\"Number of rows and columns in the test data set: {test_data.shape}\")"
   ]
  },
  {
   "cell_type": "code",
   "execution_count": 5,
   "id": "9f2ad8eb",
   "metadata": {
    "scrolled": false
   },
   "outputs": [
    {
     "data": {
      "text/plain": [
       "4    1625\n",
       "5    1590\n",
       "3    1310\n",
       "2    1088\n",
       "1     831\n",
       "0     500\n",
       "Name: target, dtype: int64"
      ]
     },
     "execution_count": 5,
     "metadata": {},
     "output_type": "execute_result"
    }
   ],
   "source": [
    "train_data[\"target\"].value_counts()"
   ]
  },
  {
   "cell_type": "code",
   "execution_count": 7,
   "id": "d7f51c5e",
   "metadata": {},
   "outputs": [],
   "source": [
    "def clean_text(text):\n",
    "    \n",
    "    table = text.maketrans(\n",
    "        dict.fromkeys(string.punctuation))\n",
    "    \n",
    "    words = word_tokenize(\n",
    "        text.lower().strip().translate(table))\n",
    "    words = [word for word in words if word not in stopwords.words('english')]\n",
    "    lemmed = [WordNetLemmatizer().lemmatize(word) for word in words]    \n",
    "    return \" \".join(lemmed)"
   ]
  },
  {
   "cell_type": "code",
   "execution_count": 8,
   "id": "a7dc3a39",
   "metadata": {},
   "outputs": [],
   "source": [
    "train_data[\"movie_description\"] = train_data[\"movie_description\"].apply(clean_text)\n",
    "test_data[\"movie_description\"] = test_data[\"movie_description\"].apply(clean_text)"
   ]
  },
  {
   "cell_type": "code",
   "execution_count": 6,
   "id": "4c138c52",
   "metadata": {},
   "outputs": [],
   "source": [
    "model = SentenceTransformer('sentence-transformers/all-MiniLM-L6-v2')"
   ]
  },
  {
   "cell_type": "code",
   "execution_count": 9,
   "id": "2407ed22",
   "metadata": {},
   "outputs": [],
   "source": [
    "embedding_train = model.encode(train_data[\"movie_description\"])\n",
    "embedding_test = model.encode(test_data[\"movie_description\"])"
   ]
  },
  {
   "cell_type": "code",
   "execution_count": 10,
   "id": "14cd7d57",
   "metadata": {},
   "outputs": [
    {
     "data": {
      "text/plain": [
       "array([[-0.04214927, -0.02354309, -0.06235144, ..., -0.01308155,\n",
       "        -0.00519856, -0.04688659],\n",
       "       [-0.03359286,  0.08724003, -0.15036741, ..., -0.00173381,\n",
       "        -0.06294074,  0.03190413],\n",
       "       [-0.08752245,  0.01828313, -0.02908031, ..., -0.08854064,\n",
       "         0.06578239,  0.00593096],\n",
       "       ...,\n",
       "       [-0.09075736, -0.03913864,  0.03544707, ..., -0.04351503,\n",
       "        -0.03392397, -0.04276147],\n",
       "       [-0.0850934 ,  0.01014427,  0.07668772, ..., -0.01372768,\n",
       "         0.03467364, -0.00594354],\n",
       "       [-0.04726066, -0.07660278, -0.02821563, ..., -0.09187867,\n",
       "        -0.01401786,  0.01421568]], dtype=float32)"
      ]
     },
     "execution_count": 10,
     "metadata": {},
     "output_type": "execute_result"
    }
   ],
   "source": [
    "embedding_train"
   ]
  },
  {
   "cell_type": "code",
   "execution_count": 12,
   "id": "7f4586a6",
   "metadata": {},
   "outputs": [],
   "source": [
    "df_train = pd.DataFrame(embedding_train)\n",
    "df_test = pd.DataFrame(embedding_test)"
   ]
  },
  {
   "cell_type": "code",
   "execution_count": 13,
   "id": "696e4cef",
   "metadata": {},
   "outputs": [],
   "source": [
    "df_train['target'] = train_data['target']\n",
    "df_train['text'] = train_data['movie_description']\n",
    "df_train['id'] = train_data['id']"
   ]
  },
  {
   "cell_type": "code",
   "execution_count": 15,
   "id": "d1c0a088",
   "metadata": {},
   "outputs": [],
   "source": [
    "df_test['text'] = test_data['movie_description']\n",
    "df_test['id'] = test_data['id']"
   ]
  },
  {
   "cell_type": "code",
   "execution_count": 16,
   "id": "67719320",
   "metadata": {},
   "outputs": [],
   "source": [
    "SEED = 1488"
   ]
  },
  {
   "cell_type": "code",
   "execution_count": 18,
   "id": "ae00e2f1",
   "metadata": {},
   "outputs": [
    {
     "data": {
      "text/html": [
       "<div>\n",
       "<style scoped>\n",
       "    .dataframe tbody tr th:only-of-type {\n",
       "        vertical-align: middle;\n",
       "    }\n",
       "\n",
       "    .dataframe tbody tr th {\n",
       "        vertical-align: top;\n",
       "    }\n",
       "\n",
       "    .dataframe thead th {\n",
       "        text-align: right;\n",
       "    }\n",
       "</style>\n",
       "<table border=\"1\" class=\"dataframe\">\n",
       "  <thead>\n",
       "    <tr style=\"text-align: right;\">\n",
       "      <th></th>\n",
       "      <th>0</th>\n",
       "      <th>1</th>\n",
       "      <th>2</th>\n",
       "      <th>3</th>\n",
       "      <th>4</th>\n",
       "      <th>5</th>\n",
       "      <th>6</th>\n",
       "      <th>7</th>\n",
       "      <th>8</th>\n",
       "      <th>9</th>\n",
       "      <th>...</th>\n",
       "      <th>376</th>\n",
       "      <th>377</th>\n",
       "      <th>378</th>\n",
       "      <th>379</th>\n",
       "      <th>380</th>\n",
       "      <th>381</th>\n",
       "      <th>382</th>\n",
       "      <th>383</th>\n",
       "      <th>text</th>\n",
       "      <th>id</th>\n",
       "    </tr>\n",
       "  </thead>\n",
       "  <tbody>\n",
       "    <tr>\n",
       "      <th>0</th>\n",
       "      <td>-0.000879</td>\n",
       "      <td>0.005213</td>\n",
       "      <td>-0.039937</td>\n",
       "      <td>0.015754</td>\n",
       "      <td>-0.052360</td>\n",
       "      <td>0.084190</td>\n",
       "      <td>-0.031520</td>\n",
       "      <td>0.042736</td>\n",
       "      <td>0.026359</td>\n",
       "      <td>0.001825</td>\n",
       "      <td>...</td>\n",
       "      <td>0.034601</td>\n",
       "      <td>0.070833</td>\n",
       "      <td>0.028698</td>\n",
       "      <td>0.018205</td>\n",
       "      <td>0.005165</td>\n",
       "      <td>-0.048211</td>\n",
       "      <td>-0.065262</td>\n",
       "      <td>0.024797</td>\n",
       "      <td>quiet western front tell gripping story young ...</td>\n",
       "      <td>133529667241314002934985813983134580070</td>\n",
       "    </tr>\n",
       "    <tr>\n",
       "      <th>1</th>\n",
       "      <td>-0.014230</td>\n",
       "      <td>-0.001680</td>\n",
       "      <td>-0.044496</td>\n",
       "      <td>0.040433</td>\n",
       "      <td>-0.075014</td>\n",
       "      <td>0.110258</td>\n",
       "      <td>-0.000092</td>\n",
       "      <td>-0.104477</td>\n",
       "      <td>0.012936</td>\n",
       "      <td>0.043081</td>\n",
       "      <td>...</td>\n",
       "      <td>-0.018296</td>\n",
       "      <td>0.027140</td>\n",
       "      <td>0.010112</td>\n",
       "      <td>0.047707</td>\n",
       "      <td>0.122855</td>\n",
       "      <td>-0.045129</td>\n",
       "      <td>-0.029897</td>\n",
       "      <td>-0.022189</td>\n",
       "      <td>marvel studio black panther wakanda forever qu...</td>\n",
       "      <td>133529693386607632642217219852638190950</td>\n",
       "    </tr>\n",
       "    <tr>\n",
       "      <th>2</th>\n",
       "      <td>-0.030206</td>\n",
       "      <td>-0.041507</td>\n",
       "      <td>0.056483</td>\n",
       "      <td>-0.047193</td>\n",
       "      <td>0.037058</td>\n",
       "      <td>-0.085644</td>\n",
       "      <td>0.016228</td>\n",
       "      <td>-0.060030</td>\n",
       "      <td>-0.043179</td>\n",
       "      <td>0.044034</td>\n",
       "      <td>...</td>\n",
       "      <td>-0.030900</td>\n",
       "      <td>0.012551</td>\n",
       "      <td>0.018353</td>\n",
       "      <td>0.027945</td>\n",
       "      <td>0.020024</td>\n",
       "      <td>-0.060898</td>\n",
       "      <td>-0.054131</td>\n",
       "      <td>0.030770</td>\n",
       "      <td>earth future global crop blight second dust bo...</td>\n",
       "      <td>133529737754378640630246272237250379110</td>\n",
       "    </tr>\n",
       "    <tr>\n",
       "      <th>3</th>\n",
       "      <td>-0.049118</td>\n",
       "      <td>0.032282</td>\n",
       "      <td>0.028468</td>\n",
       "      <td>0.060683</td>\n",
       "      <td>0.090984</td>\n",
       "      <td>0.040703</td>\n",
       "      <td>0.018634</td>\n",
       "      <td>-0.010158</td>\n",
       "      <td>-0.033937</td>\n",
       "      <td>-0.027064</td>\n",
       "      <td>...</td>\n",
       "      <td>-0.062608</td>\n",
       "      <td>0.042976</td>\n",
       "      <td>0.001750</td>\n",
       "      <td>0.062524</td>\n",
       "      <td>0.043615</td>\n",
       "      <td>-0.029784</td>\n",
       "      <td>-0.103719</td>\n",
       "      <td>-0.024576</td>\n",
       "      <td>adrift space food water tony stark sends messa...</td>\n",
       "      <td>133529756769137644053687294687798459750</td>\n",
       "    </tr>\n",
       "    <tr>\n",
       "      <th>4</th>\n",
       "      <td>-0.117073</td>\n",
       "      <td>0.034519</td>\n",
       "      <td>0.024279</td>\n",
       "      <td>-0.071363</td>\n",
       "      <td>-0.000216</td>\n",
       "      <td>0.038919</td>\n",
       "      <td>-0.020193</td>\n",
       "      <td>-0.041146</td>\n",
       "      <td>-0.086701</td>\n",
       "      <td>-0.009608</td>\n",
       "      <td>...</td>\n",
       "      <td>-0.006592</td>\n",
       "      <td>0.073914</td>\n",
       "      <td>-0.032165</td>\n",
       "      <td>-0.043739</td>\n",
       "      <td>0.043652</td>\n",
       "      <td>-0.090232</td>\n",
       "      <td>0.012489</td>\n",
       "      <td>-0.027951</td>\n",
       "      <td>streetsmart thief nathan drake tom holland rec...</td>\n",
       "      <td>133529828866765532034234504812793265510</td>\n",
       "    </tr>\n",
       "    <tr>\n",
       "      <th>...</th>\n",
       "      <td>...</td>\n",
       "      <td>...</td>\n",
       "      <td>...</td>\n",
       "      <td>...</td>\n",
       "      <td>...</td>\n",
       "      <td>...</td>\n",
       "      <td>...</td>\n",
       "      <td>...</td>\n",
       "      <td>...</td>\n",
       "      <td>...</td>\n",
       "      <td>...</td>\n",
       "      <td>...</td>\n",
       "      <td>...</td>\n",
       "      <td>...</td>\n",
       "      <td>...</td>\n",
       "      <td>...</td>\n",
       "      <td>...</td>\n",
       "      <td>...</td>\n",
       "      <td>...</td>\n",
       "      <td>...</td>\n",
       "      <td>...</td>\n",
       "    </tr>\n",
       "    <tr>\n",
       "      <th>2679</th>\n",
       "      <td>-0.015634</td>\n",
       "      <td>-0.011842</td>\n",
       "      <td>-0.004609</td>\n",
       "      <td>0.009621</td>\n",
       "      <td>-0.069253</td>\n",
       "      <td>0.044310</td>\n",
       "      <td>-0.037555</td>\n",
       "      <td>-0.111508</td>\n",
       "      <td>0.035654</td>\n",
       "      <td>-0.015355</td>\n",
       "      <td>...</td>\n",
       "      <td>0.015247</td>\n",
       "      <td>0.021554</td>\n",
       "      <td>-0.013812</td>\n",
       "      <td>0.078076</td>\n",
       "      <td>0.072134</td>\n",
       "      <td>-0.031277</td>\n",
       "      <td>0.034163</td>\n",
       "      <td>-0.072069</td>\n",
       "      <td>visiting sister naomi watt paris young woman k...</td>\n",
       "      <td>133594735746623717950164639758666530150</td>\n",
       "    </tr>\n",
       "    <tr>\n",
       "      <th>2680</th>\n",
       "      <td>0.012536</td>\n",
       "      <td>-0.099458</td>\n",
       "      <td>0.019961</td>\n",
       "      <td>-0.032370</td>\n",
       "      <td>-0.097632</td>\n",
       "      <td>0.042189</td>\n",
       "      <td>0.050726</td>\n",
       "      <td>-0.027228</td>\n",
       "      <td>0.033462</td>\n",
       "      <td>-0.004152</td>\n",
       "      <td>...</td>\n",
       "      <td>0.019748</td>\n",
       "      <td>0.060416</td>\n",
       "      <td>-0.007424</td>\n",
       "      <td>0.048430</td>\n",
       "      <td>0.048448</td>\n",
       "      <td>0.029668</td>\n",
       "      <td>0.007868</td>\n",
       "      <td>-0.045225</td>\n",
       "      <td>girl try play matchmaker widowed father woman ...</td>\n",
       "      <td>133594753176819471088318910338335604070</td>\n",
       "    </tr>\n",
       "    <tr>\n",
       "      <th>2681</th>\n",
       "      <td>-0.078795</td>\n",
       "      <td>0.050466</td>\n",
       "      <td>0.030766</td>\n",
       "      <td>-0.024256</td>\n",
       "      <td>-0.007001</td>\n",
       "      <td>0.042011</td>\n",
       "      <td>0.039817</td>\n",
       "      <td>-0.042228</td>\n",
       "      <td>-0.049884</td>\n",
       "      <td>-0.030592</td>\n",
       "      <td>...</td>\n",
       "      <td>0.032738</td>\n",
       "      <td>0.023638</td>\n",
       "      <td>-0.116682</td>\n",
       "      <td>-0.098659</td>\n",
       "      <td>0.118896</td>\n",
       "      <td>-0.076502</td>\n",
       "      <td>-0.087637</td>\n",
       "      <td>-0.025165</td>\n",
       "      <td>vacationing high school student devon werkheis...</td>\n",
       "      <td>133594873603626492770112052525140114790</td>\n",
       "    </tr>\n",
       "    <tr>\n",
       "      <th>2682</th>\n",
       "      <td>-0.028943</td>\n",
       "      <td>-0.020130</td>\n",
       "      <td>0.109296</td>\n",
       "      <td>0.052950</td>\n",
       "      <td>0.063360</td>\n",
       "      <td>0.050920</td>\n",
       "      <td>0.087596</td>\n",
       "      <td>-0.105823</td>\n",
       "      <td>-0.005377</td>\n",
       "      <td>0.036182</td>\n",
       "      <td>...</td>\n",
       "      <td>0.001680</td>\n",
       "      <td>0.050520</td>\n",
       "      <td>0.004252</td>\n",
       "      <td>0.073073</td>\n",
       "      <td>-0.020202</td>\n",
       "      <td>-0.069827</td>\n",
       "      <td>-0.006618</td>\n",
       "      <td>-0.026316</td>\n",
       "      <td>isabelle beauty outside becomes lost wildernes...</td>\n",
       "      <td>133594879149597868768615684073216638310</td>\n",
       "    </tr>\n",
       "    <tr>\n",
       "      <th>2683</th>\n",
       "      <td>-0.035615</td>\n",
       "      <td>0.039147</td>\n",
       "      <td>-0.021810</td>\n",
       "      <td>0.068562</td>\n",
       "      <td>0.005738</td>\n",
       "      <td>0.031560</td>\n",
       "      <td>-0.018315</td>\n",
       "      <td>-0.038798</td>\n",
       "      <td>0.093363</td>\n",
       "      <td>0.000185</td>\n",
       "      <td>...</td>\n",
       "      <td>0.053618</td>\n",
       "      <td>-0.031405</td>\n",
       "      <td>-0.020252</td>\n",
       "      <td>0.067623</td>\n",
       "      <td>0.031598</td>\n",
       "      <td>-0.014068</td>\n",
       "      <td>0.106239</td>\n",
       "      <td>-0.034345</td>\n",
       "      <td>muslim terrorist kidnaps liberal muslim schola...</td>\n",
       "      <td>133594920348242376186071232716070813030</td>\n",
       "    </tr>\n",
       "  </tbody>\n",
       "</table>\n",
       "<p>2684 rows × 386 columns</p>\n",
       "</div>"
      ],
      "text/plain": [
       "             0         1         2         3         4         5         6  \\\n",
       "0    -0.000879  0.005213 -0.039937  0.015754 -0.052360  0.084190 -0.031520   \n",
       "1    -0.014230 -0.001680 -0.044496  0.040433 -0.075014  0.110258 -0.000092   \n",
       "2    -0.030206 -0.041507  0.056483 -0.047193  0.037058 -0.085644  0.016228   \n",
       "3    -0.049118  0.032282  0.028468  0.060683  0.090984  0.040703  0.018634   \n",
       "4    -0.117073  0.034519  0.024279 -0.071363 -0.000216  0.038919 -0.020193   \n",
       "...        ...       ...       ...       ...       ...       ...       ...   \n",
       "2679 -0.015634 -0.011842 -0.004609  0.009621 -0.069253  0.044310 -0.037555   \n",
       "2680  0.012536 -0.099458  0.019961 -0.032370 -0.097632  0.042189  0.050726   \n",
       "2681 -0.078795  0.050466  0.030766 -0.024256 -0.007001  0.042011  0.039817   \n",
       "2682 -0.028943 -0.020130  0.109296  0.052950  0.063360  0.050920  0.087596   \n",
       "2683 -0.035615  0.039147 -0.021810  0.068562  0.005738  0.031560 -0.018315   \n",
       "\n",
       "             7         8         9  ...       376       377       378  \\\n",
       "0     0.042736  0.026359  0.001825  ...  0.034601  0.070833  0.028698   \n",
       "1    -0.104477  0.012936  0.043081  ... -0.018296  0.027140  0.010112   \n",
       "2    -0.060030 -0.043179  0.044034  ... -0.030900  0.012551  0.018353   \n",
       "3    -0.010158 -0.033937 -0.027064  ... -0.062608  0.042976  0.001750   \n",
       "4    -0.041146 -0.086701 -0.009608  ... -0.006592  0.073914 -0.032165   \n",
       "...        ...       ...       ...  ...       ...       ...       ...   \n",
       "2679 -0.111508  0.035654 -0.015355  ...  0.015247  0.021554 -0.013812   \n",
       "2680 -0.027228  0.033462 -0.004152  ...  0.019748  0.060416 -0.007424   \n",
       "2681 -0.042228 -0.049884 -0.030592  ...  0.032738  0.023638 -0.116682   \n",
       "2682 -0.105823 -0.005377  0.036182  ...  0.001680  0.050520  0.004252   \n",
       "2683 -0.038798  0.093363  0.000185  ...  0.053618 -0.031405 -0.020252   \n",
       "\n",
       "           379       380       381       382       383  \\\n",
       "0     0.018205  0.005165 -0.048211 -0.065262  0.024797   \n",
       "1     0.047707  0.122855 -0.045129 -0.029897 -0.022189   \n",
       "2     0.027945  0.020024 -0.060898 -0.054131  0.030770   \n",
       "3     0.062524  0.043615 -0.029784 -0.103719 -0.024576   \n",
       "4    -0.043739  0.043652 -0.090232  0.012489 -0.027951   \n",
       "...        ...       ...       ...       ...       ...   \n",
       "2679  0.078076  0.072134 -0.031277  0.034163 -0.072069   \n",
       "2680  0.048430  0.048448  0.029668  0.007868 -0.045225   \n",
       "2681 -0.098659  0.118896 -0.076502 -0.087637 -0.025165   \n",
       "2682  0.073073 -0.020202 -0.069827 -0.006618 -0.026316   \n",
       "2683  0.067623  0.031598 -0.014068  0.106239 -0.034345   \n",
       "\n",
       "                                                   text  \\\n",
       "0     quiet western front tell gripping story young ...   \n",
       "1     marvel studio black panther wakanda forever qu...   \n",
       "2     earth future global crop blight second dust bo...   \n",
       "3     adrift space food water tony stark sends messa...   \n",
       "4     streetsmart thief nathan drake tom holland rec...   \n",
       "...                                                 ...   \n",
       "2679  visiting sister naomi watt paris young woman k...   \n",
       "2680  girl try play matchmaker widowed father woman ...   \n",
       "2681  vacationing high school student devon werkheis...   \n",
       "2682  isabelle beauty outside becomes lost wildernes...   \n",
       "2683  muslim terrorist kidnaps liberal muslim schola...   \n",
       "\n",
       "                                           id  \n",
       "0     133529667241314002934985813983134580070  \n",
       "1     133529693386607632642217219852638190950  \n",
       "2     133529737754378640630246272237250379110  \n",
       "3     133529756769137644053687294687798459750  \n",
       "4     133529828866765532034234504812793265510  \n",
       "...                                       ...  \n",
       "2679  133594735746623717950164639758666530150  \n",
       "2680  133594753176819471088318910338335604070  \n",
       "2681  133594873603626492770112052525140114790  \n",
       "2682  133594879149597868768615684073216638310  \n",
       "2683  133594920348242376186071232716070813030  \n",
       "\n",
       "[2684 rows x 386 columns]"
      ]
     },
     "execution_count": 18,
     "metadata": {},
     "output_type": "execute_result"
    }
   ],
   "source": [
    "df_test"
   ]
  },
  {
   "cell_type": "code",
   "execution_count": 25,
   "id": "3f0dde49",
   "metadata": {},
   "outputs": [
    {
     "name": "stderr",
     "output_type": "stream",
     "text": [
      "Custom logger is already specified. Specify more than one logger at same time is not thread safe.Warning: less than 75% gpu memory available for training. Free: 4068 Total: 6143.6875\n"
     ]
    },
    {
     "name": "stdout",
     "output_type": "stream",
     "text": [
      "Learning rate set to 0.061886\n",
      "0:\tlearn: 1.5070849\ttest: 1.5049454\tbest: 1.5049454 (0)\ttotal: 32.9ms\tremaining: 2m 44s\n",
      "500:\tlearn: 0.0120829\ttest: 0.0157518\tbest: 0.0157518 (500)\ttotal: 10.9s\tremaining: 1m 37s\n",
      "1000:\tlearn: 0.0059599\ttest: 0.0127737\tbest: 0.0127592 (996)\ttotal: 22.2s\tremaining: 1m 28s\n",
      "1500:\tlearn: 0.0035967\ttest: 0.0117313\tbest: 0.0117218 (1497)\ttotal: 33.1s\tremaining: 1m 17s\n",
      "2000:\tlearn: 0.0024465\ttest: 0.0113392\tbest: 0.0113221 (1969)\ttotal: 43.9s\tremaining: 1m 5s\n",
      "2500:\tlearn: 0.0018287\ttest: 0.0112502\tbest: 0.0112475 (2499)\ttotal: 54.6s\tremaining: 54.6s\n",
      "3000:\tlearn: 0.0014510\ttest: 0.0112657\tbest: 0.0111606 (2802)\ttotal: 1m 5s\tremaining: 43.5s\n",
      "bestTest = 0.011160637\n",
      "bestIteration = 2802\n",
      "Shrink model to first 2803 iterations.\n",
      "Learning rate set to 0.061886\n"
     ]
    },
    {
     "name": "stderr",
     "output_type": "stream",
     "text": [
      "Warning: less than 75% gpu memory available for training. Free: 4068 Total: 6143.6875\n"
     ]
    },
    {
     "name": "stdout",
     "output_type": "stream",
     "text": [
      "0:\tlearn: 1.5070794\ttest: 1.5092091\tbest: 1.5092091 (0)\ttotal: 24.4ms\tremaining: 2m 1s\n",
      "500:\tlearn: 0.0112966\ttest: 0.0210775\tbest: 0.0210775 (500)\ttotal: 11s\tremaining: 1m 39s\n",
      "1000:\tlearn: 0.0053625\ttest: 0.0179827\tbest: 0.0178411 (990)\ttotal: 21.9s\tremaining: 1m 27s\n",
      "1500:\tlearn: 0.0033678\ttest: 0.0171231\tbest: 0.0170517 (1492)\ttotal: 32.8s\tremaining: 1m 16s\n",
      "2000:\tlearn: 0.0023699\ttest: 0.0167595\tbest: 0.0167586 (1868)\ttotal: 43.8s\tremaining: 1m 5s\n",
      "2500:\tlearn: 0.0017887\ttest: 0.0164648\tbest: 0.0164346 (2468)\ttotal: 55.1s\tremaining: 55.1s\n",
      "3000:\tlearn: 0.0014135\ttest: 0.0163121\tbest: 0.0162767 (2935)\ttotal: 1m 6s\tremaining: 44.4s\n",
      "bestTest = 0.01627668706\n",
      "bestIteration = 2935\n",
      "Shrink model to first 2936 iterations.\n",
      "Learning rate set to 0.061886\n"
     ]
    },
    {
     "name": "stderr",
     "output_type": "stream",
     "text": [
      "Warning: less than 75% gpu memory available for training. Free: 4068 Total: 6143.6875\n"
     ]
    },
    {
     "name": "stdout",
     "output_type": "stream",
     "text": [
      "0:\tlearn: 1.5075811\ttest: 1.5086147\tbest: 1.5086147 (0)\ttotal: 34.1ms\tremaining: 2m 50s\n",
      "500:\tlearn: 0.0108547\ttest: 0.0227841\tbest: 0.0227841 (500)\ttotal: 12.1s\tremaining: 1m 48s\n",
      "1000:\tlearn: 0.0052458\ttest: 0.0214680\tbest: 0.0214456 (784)\ttotal: 23.8s\tremaining: 1m 35s\n",
      "bestTest = 0.02126105592\n",
      "bestIteration = 1077\n",
      "Shrink model to first 1078 iterations.\n",
      "Learning rate set to 0.061886\n"
     ]
    },
    {
     "name": "stderr",
     "output_type": "stream",
     "text": [
      "Warning: less than 75% gpu memory available for training. Free: 4068 Total: 6143.6875\n"
     ]
    },
    {
     "name": "stdout",
     "output_type": "stream",
     "text": [
      "0:\tlearn: 1.5070879\ttest: 1.5066352\tbest: 1.5066352 (0)\ttotal: 26.5ms\tremaining: 2m 12s\n",
      "500:\tlearn: 0.0117986\ttest: 0.0179878\tbest: 0.0179878 (500)\ttotal: 11.5s\tremaining: 1m 43s\n",
      "1000:\tlearn: 0.0059081\ttest: 0.0145662\tbest: 0.0145662 (1000)\ttotal: 23.4s\tremaining: 1m 33s\n",
      "1500:\tlearn: 0.0037044\ttest: 0.0135430\tbest: 0.0135286 (1496)\ttotal: 35s\tremaining: 1m 21s\n",
      "2000:\tlearn: 0.0025276\ttest: 0.0130279\tbest: 0.0129432 (1892)\ttotal: 46.2s\tremaining: 1m 9s\n",
      "2500:\tlearn: 0.0018947\ttest: 0.0127758\tbest: 0.0127758 (2500)\ttotal: 57.4s\tremaining: 57.3s\n",
      "3000:\tlearn: 0.0015082\ttest: 0.0125409\tbest: 0.0125180 (2991)\ttotal: 1m 8s\tremaining: 45.7s\n",
      "3500:\tlearn: 0.0012303\ttest: 0.0126630\tbest: 0.0124957 (3215)\ttotal: 1m 19s\tremaining: 34.2s\n",
      "bestTest = 0.01249569041\n",
      "bestIteration = 3215\n",
      "Shrink model to first 3216 iterations.\n",
      "Learning rate set to 0.061887\n"
     ]
    },
    {
     "name": "stderr",
     "output_type": "stream",
     "text": [
      "Warning: less than 75% gpu memory available for training. Free: 4068 Total: 6143.6875\n"
     ]
    },
    {
     "name": "stdout",
     "output_type": "stream",
     "text": [
      "0:\tlearn: 1.5070948\ttest: 1.5064379\tbest: 1.5064379 (0)\ttotal: 25ms\tremaining: 2m 5s\n",
      "500:\tlearn: 0.0105358\ttest: 0.0209937\tbest: 0.0209937 (500)\ttotal: 11.3s\tremaining: 1m 41s\n",
      "1000:\tlearn: 0.0051752\ttest: 0.0177816\tbest: 0.0177741 (999)\ttotal: 22.6s\tremaining: 1m 30s\n",
      "1500:\tlearn: 0.0031609\ttest: 0.0166770\tbest: 0.0166499 (1498)\ttotal: 33.9s\tremaining: 1m 18s\n",
      "2000:\tlearn: 0.0022193\ttest: 0.0161970\tbest: 0.0161789 (1998)\ttotal: 45.1s\tremaining: 1m 7s\n",
      "2500:\tlearn: 0.0016731\ttest: 0.0161557\tbest: 0.0160917 (2273)\ttotal: 56.8s\tremaining: 56.7s\n",
      "bestTest = 0.01609168204\n",
      "bestIteration = 2273\n",
      "Shrink model to first 2274 iterations.\n",
      "[0.9964002879769619, 0.9928005759539237, 0.9928005759539237, 0.9956803455723542, 0.9920749279538905] 0.9939513426822109\n"
     ]
    }
   ],
   "source": [
    "kf = StratifiedKFold(n_splits=5, shuffle=True, random_state=SEED)\n",
    "history = []\n",
    "clfs = []\n",
    "for train_index, val_index in kf.split(df_train.drop(['target'], axis=1), df_train['target']):\n",
    "    train_df, val_df = df_train.iloc[train_index].reset_index(drop=True), df_train.iloc[val_index].reset_index(drop=True)\n",
    "    y_train, y_val = train_df['target'], val_df['target']\n",
    "    X_train, X_val = train_df.drop(['target'], axis=1), val_df.drop(['target'], axis=1)\n",
    "    clf = CatBoostClassifier(\n",
    "        iterations=5000,\n",
    "        random_seed=SEED,\n",
    "        early_stopping_rounds=300,\n",
    "        task_type='GPU',\n",
    "        text_features=['text'],\n",
    "    )\n",
    "    clf.fit(X_train, y_train, eval_set=(X_val, y_val), \n",
    "            verbose = 500, use_best_model = True, plot = False)\n",
    "    clfs.append(clf)\n",
    "    predictions = clf.predict(X_val)\n",
    "    history.append(accuracy_score(y_val, predictions))\n",
    "print(history, np.mean(history))"
   ]
  },
  {
   "cell_type": "code",
   "execution_count": 26,
   "id": "5a4ea9ea",
   "metadata": {},
   "outputs": [
    {
     "data": {
      "image/png": "[encoded data removed]",
      "text/plain": [
       "<Figure size 640x480 with 2 Axes>"
      ]
     },
     "metadata": {},
     "output_type": "display_data"
    }
   ],
   "source": [
    "from sklearn.metrics import confusion_matrix\n",
    "import matplotlib.pyplot as plt\n",
    "from sklearn.metrics import ConfusionMatrixDisplay\n",
    "\n",
    "cm = confusion_matrix(y_val, predictions)\n",
    "disp = ConfusionMatrixDisplay(confusion_matrix=cm)\n",
    "disp.plot()\n",
    "plt.show()"
   ]
  },
  {
   "cell_type": "code",
   "execution_count": 27,
   "id": "33590f94",
   "metadata": {},
   "outputs": [],
   "source": [
    "sample_submission = pd.read_csv(os.path.join(path, \"sample_submission.csv\"))"
   ]
  },
  {
   "cell_type": "code",
   "execution_count": 28,
   "id": "f7e3cc2a",
   "metadata": {},
   "outputs": [],
   "source": [
    "for i, clf in enumerate(clfs):\n",
    "    sample_submission[i] = clf.predict(df_test)"
   ]
  },
  {
   "cell_type": "code",
   "execution_count": 29,
   "id": "054fc60b",
   "metadata": {},
   "outputs": [],
   "source": [
    "sample_submission[\"target\"] = sample_submission[[0, 1, 2, 3, 4]].mode(axis=1)[0]\n",
    "sample_submission[\"target\"] = sample_submission[\"target\"].astype(int)\n",
    "sample_submission = sample_submission[['id', 'target']]\n",
    "sample_submission.to_csv(\"submission4.csv\", index=False)"
   ]
  }
 ],
 "metadata": {
  "kernelspec": {
   "display_name": "PyCharm (ODS task2)",
   "language": "python",
   "name": "pycharm-c2914cd"
  },
  "language_info": {
   "codemirror_mode": {
    "name": "ipython",
    "version": 3
   },
   "file_extension": ".py",
   "mimetype": "text/x-python",
   "name": "python",
   "nbconvert_exporter": "python",
   "pygments_lexer": "ipython3",
   "version": "3.9.12"
  }
 },
 "nbformat": 4,
 "nbformat_minor": 5
}
